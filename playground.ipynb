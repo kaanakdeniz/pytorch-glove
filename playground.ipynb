{
 "cells": [
  {
   "cell_type": "code",
   "execution_count": 1,
   "metadata": {},
   "outputs": [
    {
     "name": "stderr",
     "output_type": "stream",
     "text": [
      "d:\\Yazılım\\RecentCoding\\pytorch-glove\\env\\lib\\site-packages\\tqdm\\auto.py:22: TqdmWarning: IProgress not found. Please update jupyter and ipywidgets. See https://ipywidgets.readthedocs.io/en/stable/user_install.html\n",
      "  from .autonotebook import tqdm as notebook_tqdm\n"
     ]
    }
   ],
   "source": [
    "import re\n",
    "import pandas as pd\n",
    "import nltk\n",
    "from nltk.tokenize import word_tokenize\n",
    "from itertools import islice\n",
    "from tools import Dictionary\n",
    "from glove import GloVeModel\n",
    "import torch"
   ]
  },
  {
   "cell_type": "code",
   "execution_count": 2,
   "metadata": {},
   "outputs": [],
   "source": [
    "stopwords = nltk.corpus.stopwords.words('english')\n",
    "\n",
    "def clear_stopwords(tokenized_text: list[str], stopwords) -> list[str]:\n",
    "    return [w for w in tokenized_text if w not in stopwords]\n",
    "\n",
    "def clear_special_characters(tokenized_text: list[str]) -> list[str]:\n",
    "    return [re.sub(r\"[^A-Za-z]+\",'', text) for text in tokenized_text]\n",
    "\n",
    "def preprocess(text: str) -> list[str]:\n",
    "    tokenized_text = word_tokenize(text)\n",
    "    tokenized_text = clear_stopwords(tokenized_text, stopwords)\n",
    "    tokenized_text = clear_special_characters(tokenized_text)\n",
    "    return \" \".join([letter for letter in tokenized_text if len(letter)>2]).strip().lower()"
   ]
  },
  {
   "cell_type": "code",
   "execution_count": 3,
   "metadata": {},
   "outputs": [],
   "source": [
    "def show_n(n, iterable):\n",
    "    return list(islice(iterable, n))"
   ]
  },
  {
   "cell_type": "code",
   "execution_count": 4,
   "metadata": {},
   "outputs": [],
   "source": [
    "df = pd.read_csv('./data.csv')"
   ]
  },
  {
   "cell_type": "code",
   "execution_count": 5,
   "metadata": {},
   "outputs": [
    {
     "data": {
      "text/html": [
       "<div>\n",
       "<style scoped>\n",
       "    .dataframe tbody tr th:only-of-type {\n",
       "        vertical-align: middle;\n",
       "    }\n",
       "\n",
       "    .dataframe tbody tr th {\n",
       "        vertical-align: top;\n",
       "    }\n",
       "\n",
       "    .dataframe thead th {\n",
       "        text-align: right;\n",
       "    }\n",
       "</style>\n",
       "<table border=\"1\" class=\"dataframe\">\n",
       "  <thead>\n",
       "    <tr style=\"text-align: right;\">\n",
       "      <th></th>\n",
       "      <th>title</th>\n",
       "      <th>label</th>\n",
       "    </tr>\n",
       "  </thead>\n",
       "  <tbody>\n",
       "    <tr>\n",
       "      <th>0</th>\n",
       "      <td>20 BuzzFeed Articles It's Probably OK That I N...</td>\n",
       "      <td>clickbait</td>\n",
       "    </tr>\n",
       "    <tr>\n",
       "      <th>1</th>\n",
       "      <td>Pigskin A Blanket: NFL Conference Championship...</td>\n",
       "      <td>clickbait</td>\n",
       "    </tr>\n",
       "    <tr>\n",
       "      <th>2</th>\n",
       "      <td>When Relationship Introductions Get Awkward</td>\n",
       "      <td>clickbait</td>\n",
       "    </tr>\n",
       "    <tr>\n",
       "      <th>3</th>\n",
       "      <td>You Might Be Food Shopping Wrong</td>\n",
       "      <td>clickbait</td>\n",
       "    </tr>\n",
       "    <tr>\n",
       "      <th>4</th>\n",
       "      <td>27 Underrated Makeup Brands Everyone Should Kn...</td>\n",
       "      <td>clickbait</td>\n",
       "    </tr>\n",
       "  </tbody>\n",
       "</table>\n",
       "</div>"
      ],
      "text/plain": [
       "                                               title      label\n",
       "0  20 BuzzFeed Articles It's Probably OK That I N...  clickbait\n",
       "1  Pigskin A Blanket: NFL Conference Championship...  clickbait\n",
       "2        When Relationship Introductions Get Awkward  clickbait\n",
       "3                   You Might Be Food Shopping Wrong  clickbait\n",
       "4  27 Underrated Makeup Brands Everyone Should Kn...  clickbait"
      ]
     },
     "execution_count": 5,
     "metadata": {},
     "output_type": "execute_result"
    }
   ],
   "source": [
    "df.head()"
   ]
  },
  {
   "cell_type": "code",
   "execution_count": 6,
   "metadata": {},
   "outputs": [],
   "source": [
    "cleaned_sentences = df.apply(lambda x: preprocess(x[\"title\"]), axis=1)"
   ]
  },
  {
   "cell_type": "code",
   "execution_count": 7,
   "metadata": {},
   "outputs": [
    {
     "data": {
      "text/plain": [
       "['buzzfeed articles probably that never finished',\n",
       " 'pigskin blanket nfl conference championship picks',\n",
       " 'when relationship introductions get awkward',\n",
       " 'you might food shopping wrong',\n",
       " 'underrated makeup brands everyone should know about']"
      ]
     },
     "execution_count": 7,
     "metadata": {},
     "output_type": "execute_result"
    }
   ],
   "source": [
    "show_n(5, cleaned_sentences)"
   ]
  },
  {
   "cell_type": "code",
   "execution_count": 8,
   "metadata": {},
   "outputs": [],
   "source": [
    "tokenized_sentences = [word_tokenize(i) for i in cleaned_sentences]"
   ]
  },
  {
   "cell_type": "code",
   "execution_count": 9,
   "metadata": {},
   "outputs": [
    {
     "data": {
      "text/plain": [
       "[['buzzfeed', 'articles', 'probably', 'that', 'never', 'finished'],\n",
       " ['pigskin', 'blanket', 'nfl', 'conference', 'championship', 'picks'],\n",
       " ['when', 'relationship', 'introductions', 'get', 'awkward'],\n",
       " ['you', 'might', 'food', 'shopping', 'wrong'],\n",
       " ['underrated', 'makeup', 'brands', 'everyone', 'should', 'know', 'about']]"
      ]
     },
     "execution_count": 9,
     "metadata": {},
     "output_type": "execute_result"
    }
   ],
   "source": [
    "show_n(5, tokenized_sentences)"
   ]
  },
  {
   "cell_type": "code",
   "execution_count": 10,
   "metadata": {},
   "outputs": [],
   "source": [
    "dct = Dictionary(tokenized_sentences)\n",
    "corpus = dct.corpus(tokenized_sentences)"
   ]
  },
  {
   "cell_type": "code",
   "execution_count": 11,
   "metadata": {},
   "outputs": [
    {
     "data": {
      "text/plain": [
       "305"
      ]
     },
     "execution_count": 11,
     "metadata": {},
     "output_type": "execute_result"
    }
   ],
   "source": [
    "dct.vocab_size"
   ]
  },
  {
   "cell_type": "code",
   "execution_count": 12,
   "metadata": {},
   "outputs": [
    {
     "data": {
      "text/plain": [
       "[('brands', 0),\n",
       " ('restore', 1),\n",
       " ('ted', 2),\n",
       " ('bell', 3),\n",
       " ('reasons', 4),\n",
       " ('why', 5),\n",
       " ('demonstrate', 6),\n",
       " ('dies', 7),\n",
       " ('united', 8),\n",
       " ('never', 9)]"
      ]
     },
     "execution_count": 12,
     "metadata": {},
     "output_type": "execute_result"
    }
   ],
   "source": [
    "show_n(10, dct.word2idx.items())"
   ]
  },
  {
   "cell_type": "code",
   "execution_count": 13,
   "metadata": {},
   "outputs": [],
   "source": [
    "EMBEDDING_SIZE = 128\n",
    "CONTEXT_SIZE = 3\n",
    "NUM_EPOCH = 10\n",
    "LEARNING_RATE = 0.01\n"
   ]
  },
  {
   "cell_type": "code",
   "execution_count": 14,
   "metadata": {},
   "outputs": [
    {
     "data": {
      "text/plain": [
       "GloVeModel(\n",
       "  (_focal_embeddings): Embedding(305, 128)\n",
       "  (_context_embeddings): Embedding(305, 128)\n",
       "  (_focal_biases): Embedding(305, 1)\n",
       "  (_context_biases): Embedding(305, 1)\n",
       ")"
      ]
     },
     "execution_count": 14,
     "metadata": {},
     "output_type": "execute_result"
    }
   ],
   "source": [
    "device = torch.device('cuda:0' if torch.cuda.is_available() else 'cpu')\n",
    "model = GloVeModel(EMBEDDING_SIZE, CONTEXT_SIZE, dct.vocab_size)\n",
    "model.to(device)"
   ]
  },
  {
   "cell_type": "code",
   "execution_count": 15,
   "metadata": {},
   "outputs": [],
   "source": [
    "model.fit(corpus)"
   ]
  },
  {
   "cell_type": "code",
   "execution_count": 16,
   "metadata": {},
   "outputs": [],
   "source": [
    "cooccurance_matrix = model.get_coocurrance_matrix()\n",
    "# model.train(NUM_EPOCH, device, learning_rate=LEARNING_RATE)"
   ]
  },
  {
   "cell_type": "code",
   "execution_count": 17,
   "metadata": {},
   "outputs": [
    {
     "data": {
      "text/plain": [
       "[(156, 89, 1.0),\n",
       " (156, 103, 0.5),\n",
       " (156, 259, 0.3333333333333333),\n",
       " (89, 156, 1.0),\n",
       " (89, 103, 1.0),\n",
       " (89, 259, 0.5),\n",
       " (89, 9, 0.3333333333333333),\n",
       " (103, 89, 1.0),\n",
       " (103, 156, 0.5),\n",
       " (103, 259, 1.0)]"
      ]
     },
     "execution_count": 17,
     "metadata": {},
     "output_type": "execute_result"
    }
   ],
   "source": [
    "cooccurance_matrix[:10]"
   ]
  },
  {
   "cell_type": "code",
   "execution_count": 18,
   "metadata": {},
   "outputs": [],
   "source": [
    "def show_occurense(tple):\n",
    "    print(f\"{dct.idx2word[tple[0]]} - {dct.idx2word[tple[1]]} : {tple[2]}\")"
   ]
  },
  {
   "cell_type": "code",
   "execution_count": 19,
   "metadata": {},
   "outputs": [
    {
     "name": "stdout",
     "output_type": "stream",
     "text": [
      "buzzfeed - that : 0.3333333333333333\n"
     ]
    }
   ],
   "source": [
    "show_occurense(cooccurance_matrix[2])"
   ]
  },
  {
   "cell_type": "code",
   "execution_count": 20,
   "metadata": {},
   "outputs": [
    {
     "name": "stdout",
     "output_type": "stream",
     "text": [
      "epoch: 0, current step: 0, average loss: 0.03359546565690181\n",
      "epoch: 1, current step: 0, average loss: 0.11625027091995302\n",
      "epoch: 2, current step: 0, average loss: 0.0586626114840594\n",
      "epoch: 3, current step: 0, average loss: 0.027321591854541964\n",
      "epoch: 4, current step: 0, average loss: 0.013604911097377279\n",
      "epoch: 5, current step: 0, average loss: 0.009198354894086585\n",
      "epoch: 6, current step: 0, average loss: 0.008171694213980304\n",
      "epoch: 7, current step: 0, average loss: 0.007540590663656986\n",
      "epoch: 8, current step: 0, average loss: 0.006397906132683713\n",
      "epoch: 9, current step: 0, average loss: 0.005010491542081308\n",
      "finish glove vector training\n"
     ]
    }
   ],
   "source": [
    "model.train(NUM_EPOCH, device, learning_rate=LEARNING_RATE)"
   ]
  },
  {
   "cell_type": "code",
   "execution_count": 21,
   "metadata": {},
   "outputs": [],
   "source": [
    "embeddings = list(model._focal_embeddings.parameters())[0]"
   ]
  },
  {
   "cell_type": "code",
   "execution_count": 22,
   "metadata": {},
   "outputs": [],
   "source": [
    "man_vec  = embeddings[dct.word2idx['man']]\n",
    "woman_vec = embeddings[dct.word2idx['woman']]"
   ]
  },
  {
   "cell_type": "code",
   "execution_count": 23,
   "metadata": {},
   "outputs": [
    {
     "data": {
      "text/plain": [
       "0.07057671568306412"
      ]
     },
     "execution_count": 23,
     "metadata": {},
     "output_type": "execute_result"
    }
   ],
   "source": [
    "torch.cosine_similarity(man_vec.view(1,-1), woman_vec.view(1,-1)).item()"
   ]
  }
 ],
 "metadata": {
  "kernelspec": {
   "display_name": "Python 3.9.12 ('env': venv)",
   "language": "python",
   "name": "python3"
  },
  "language_info": {
   "codemirror_mode": {
    "name": "ipython",
    "version": 3
   },
   "file_extension": ".py",
   "mimetype": "text/x-python",
   "name": "python",
   "nbconvert_exporter": "python",
   "pygments_lexer": "ipython3",
   "version": "3.9.12"
  },
  "orig_nbformat": 4,
  "vscode": {
   "interpreter": {
    "hash": "44fe0fcebe43aa312c31ec4d31f39e95b8c187d54f1e6790cebd6bafdd3ce657"
   }
  }
 },
 "nbformat": 4,
 "nbformat_minor": 2
}
